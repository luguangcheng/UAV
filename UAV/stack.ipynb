{
 "cells": [
  {
   "cell_type": "code",
   "execution_count": 1,
   "metadata": {},
   "outputs": [],
   "source": [
    "import pandas as pd\n",
    "import numpy as np\n",
    "from sklearn.model_selection import KFold \n",
    "from sklearn.linear_model import LogisticRegression\n",
    "SEED = 2018"
   ]
  },
  {
   "cell_type": "code",
   "execution_count": null,
   "metadata": {},
   "outputs": [],
   "source": [
    "def get_oof(clf,x_train,y_train,x_test):\n",
    "    ntrain = x_train.shape[0]\n",
    "    ntest = x_test.shape[0]\n",
    "    kf = KFold(n_splits=5,random_state=SEED)\n",
    "    oof_train = np.zeros((ntrain,))\n",
    "    oof_test = np.zeros((ntest,))\n",
    "    oof_test_skf = np.empty((5,ntest))\n",
    "    for i,(train_index,test_index) in enumerate(kf.split(x_train)):\n",
    "        kf_x_train = x_train[train_index]\n",
    "        kf_y_train = y_train[train_index]\n",
    "        kf_x_test = x_train[test_index]\n",
    "        clf.train(kf_x_train,kf_y_train)\n",
    "        oof_train[test_index] = clf.predict(kf_x_test)\n",
    "        oof_test_skf[i,:] = clf.predict(x_test)\n",
    "        \n",
    "    oof_test[:] = oof_test_skf.mean(axis=0)\n",
    "    return oof_train.reshape(-1,1),oof_test.reshape(-1,1)"
   ]
  },
  {
   "cell_type": "code",
   "execution_count": null,
   "metadata": {},
   "outputs": [],
   "source": [
    "def model_stacking(clf_set,x_train,y_train,x_test):\n",
    "    train_stack = np.empty((ntrain,len(clf_set)))\n",
    "    test_stack = np.empty((ntest,len(clf_set)))\n",
    "    i=0\n",
    "    for clf in clf_set:\n",
    "        oof_train,oof_test = get_oof(clf,x_train,y_train,x_test)\n",
    "        train_stack[:,i] = oof_train\n",
    "        test_stack[:,i] = oof_test\n",
    "        i+=1\n",
    "    lr = LogisticRegression()\n",
    "    lr.fit(train_stack,y_train)\n",
    "    y_pre = lr.predict(test_stack)\n",
    "    return y_pre"
   ]
  },
  {
   "cell_type": "code",
   "execution_count": 1,
   "metadata": {},
   "outputs": [],
   "source": [
    "def f_print(a):\n",
    "    print(a)"
   ]
  }
 ],
 "metadata": {
  "kernelspec": {
   "display_name": "Python 2",
   "language": "python",
   "name": "python2"
  },
  "language_info": {
   "codemirror_mode": {
    "name": "ipython",
    "version": 2
   },
   "file_extension": ".py",
   "mimetype": "text/x-python",
   "name": "python",
   "nbconvert_exporter": "python",
   "pygments_lexer": "ipython2",
   "version": "2.7.12"
  }
 },
 "nbformat": 4,
 "nbformat_minor": 2
}
