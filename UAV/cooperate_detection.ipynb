{
 "cells": [
  {
   "cell_type": "code",
   "execution_count": null,
   "metadata": {},
   "outputs": [],
   "source": [
    "import ipython_import\n",
    "import stack\n",
    "import JDFS\n",
    "import numpy as np\n",
    "import pandas as pd"
   ]
  },
  {
   "cell_type": "code",
   "execution_count": null,
   "metadata": {},
   "outputs": [],
   "source": [
    "# 加载数据（训练集测试集已分割好）\n",
    "train_data = pd.read_csv('/home/luguangcheng/UAVnew/train_data_1221.csv',header=0) #全部数据中的训练部分\n",
    "test_data = pd.read_csv('/home/luguangcheng/UAVnew/test_data_1221.csv',header=0) #全部数据中的测试部分\n",
    "X_train = train_data.drop('label',axis=1)\n",
    "y_train = train_data['label']\n",
    "X_test = test_data.drop('label',axis=1)\n",
    "y_test = test_data['label']\n",
    "print X_train.shape,y_train.shape,X_test.shape,y_test.shape"
   ]
  },
  {
   "cell_type": "code",
   "execution_count": null,
   "metadata": {},
   "outputs": [],
   "source": [
    "# 加载数据（随机分割）\n",
    "from sklearn.model_selection import train_test_split\n",
    "raw_data = pd.read_csv('/home/luguangcheng/UAVnew/train_data_1221.csv',header=0)\n",
    "X = raw_data.drop('label',axis=1)\n",
    "y = raw_data['label']\n",
    "X_train, X_test, y_train, y_test = train_test_split(X, y, test_size=0.25, random_state=0)"
   ]
  },
  {
   "cell_type": "code",
   "execution_count": null,
   "metadata": {},
   "outputs": [],
   "source": [
    "# 特征选择与模型训练\n",
    "sorted_feature = JDFS.feature_sort(X_train,y_train) #对特征进行排序\n",
    "#sorted_feature_copy = list(sorted_feature)\n",
    "feature,score,clf = JDFS.feature_selection(X_train,y_train,sorted_feature)"
   ]
  }
 ],
 "metadata": {
  "kernelspec": {
   "display_name": "Python 2",
   "language": "python",
   "name": "python2"
  },
  "language_info": {
   "codemirror_mode": {
    "name": "ipython",
    "version": 2
   },
   "file_extension": ".py",
   "mimetype": "text/x-python",
   "name": "python",
   "nbconvert_exporter": "python",
   "pygments_lexer": "ipython2",
   "version": "2.7.12"
  }
 },
 "nbformat": 4,
 "nbformat_minor": 2
}
