{
 "cells": [
  {
   "cell_type": "code",
   "execution_count": 1,
   "metadata": {},
   "outputs": [
    {
     "name": "stdout",
     "output_type": "stream",
     "text": [
      "importing Jupyter notebook from stack.ipynb\n",
      "importing Jupyter notebook from JDFS.ipynb\n"
     ]
    }
   ],
   "source": [
    "import ipython_import\n",
    "import stack\n",
    "import JDFS"
   ]
  },
  {
   "cell_type": "code",
   "execution_count": 5,
   "metadata": {},
   "outputs": [],
   "source": [
    "import numpy as np\n",
    "import pandas as pd"
   ]
  },
  {
   "cell_type": "code",
   "execution_count": 12,
   "metadata": {},
   "outputs": [
    {
     "name": "stdout",
     "output_type": "stream",
     "text": [
      "(9000, 90) (9000,) (1400, 90) (1400,)\n"
     ]
    }
   ],
   "source": [
    "# 加载数据（训练集测试集已分割好）\n",
    "train_data = pd.read_csv('/home/luguangcheng/UAVnew/train_data_1221.csv',header=0) #全部数据中的训练部分\n",
    "test_data = pd.read_csv('/home/luguangcheng/UAVnew/test_data_1221.csv',header=0) #全部数据中的测试部分\n",
    "X_train = train_data.drop('label',axis=1)\n",
    "y_train = train_data['label']\n",
    "X_test = test_data.drop('label',axis=1)\n",
    "y_test = test_data['label']\n",
    "print X_train.shape,y_train.shape,X_test.shape,y_test.shape"
   ]
  },
  {
   "cell_type": "code",
   "execution_count": null,
   "metadata": {},
   "outputs": [],
   "source": [
    "# 加载数据（随机分割）\n",
    "from sklearn.model_selection import train_test_split\n",
    "raw_data = pd.read_csv('/home/luguangcheng/UAVnew/train_data_1221.csv',header=0)\n",
    "X = raw_data.drop('label',axis=1)\n",
    "y = raw_data['label']\n",
    "X_train, X_test, y_train, y_test = train_test_split(X, y, test_size=0.25, random_state=0)"
   ]
  },
  {
   "cell_type": "code",
   "execution_count": null,
   "metadata": {},
   "outputs": [],
   "source": [
    "# 特征选择与模型训练\n",
    "sorted_feature = JDFS.feature_sort(X_train,y_train) #对特征进行排序\n",
    "#sorted_feature_copy = list(sorted_feature)\n",
    "feature,score,clf = JDFS.feature_selection(X_train,y_train,sorted_feature)"
   ]
  },
  {
   "cell_type": "code",
   "execution_count": null,
   "metadata": {},
   "outputs": [],
   "source": [
    "# 预测\n",
    "clf.predict(X_test[feature])"
   ]
  },
  {
   "cell_type": "code",
   "execution_count": 4,
   "metadata": {},
   "outputs": [
    {
     "data": {
      "image/png": "[encoded data removed]",
      "text/plain": [
       "<matplotlib.figure.Figure at 0x7ff48b819950>"
      ]
     },
     "metadata": {},
     "output_type": "display_data"
    }
   ],
   "source": [
    "# 画ROC曲线\n",
    "from sklearn.metrics import roc_curve, auc\n",
    "import matplotlib.pyplot as plt\n",
    "%matplotlib inline\n",
    "\n",
    "actual = [1,1,1,0,0,0]   #实际值\n",
    "predictions = [0.9,0.9,0.9,0.1,0.1,0.1]   #预测概率\n",
    "false_positive_rate, true_positive_rate, thresholds = roc_curve(actual, predictions)  #根据不同阈值得到的虚警率与召回率\n",
    "roc_auc = auc(false_positive_rate, true_positive_rate)\n",
    "\n",
    "plt.title('ROC Curve')\n",
    "plt.plot(false_positive_rate, true_positive_rate, 'b',label='AUC = %0.2f'% roc_auc)\n",
    "plt.legend(loc='lower right')\n",
    "plt.plot([0,1],[0,1],'r--')  #基准线\n",
    "#plt.xlim([-0.1,1.2])\n",
    "#plt.ylim([-0.1,1.2])\n",
    "plt.ylabel('True Positive Rate')\n",
    "plt.xlabel('False Positive Rate')\n",
    "plt.show()"
   ]
  },
  {
   "cell_type": "code",
   "execution_count": 7,
   "metadata": {},
   "outputs": [
    {
     "data": {
      "text/plain": [
       "(array([2]),)"
      ]
     },
     "execution_count": 7,
     "metadata": {},
     "output_type": "execute_result"
    }
   ],
   "source": [
    "np.where(np.diff(predictions))"
   ]
  },
  {
   "cell_type": "code",
   "execution_count": null,
   "metadata": {},
   "outputs": [],
   "source": []
  }
 ],
 "metadata": {
  "kernelspec": {
   "display_name": "Python 2",
   "language": "python",
   "name": "python2"
  },
  "language_info": {
   "codemirror_mode": {
    "name": "ipython",
    "version": 2
   },
   "file_extension": ".py",
   "mimetype": "text/x-python",
   "name": "python",
   "nbconvert_exporter": "python",
   "pygments_lexer": "ipython2",
   "version": "2.7.12"
  }
 },
 "nbformat": 4,
 "nbformat_minor": 2
}
