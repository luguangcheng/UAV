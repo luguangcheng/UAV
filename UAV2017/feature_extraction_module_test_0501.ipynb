{
 "cells": [
  {
   "cell_type": "code",
   "execution_count": 1,
   "metadata": {},
   "outputs": [],
   "source": [
    "import pandas as pd\n",
    "import numpy as np\n",
    "import math\n",
    "from sklearn.preprocessing import MinMaxScaler"
   ]
  },
  {
   "cell_type": "code",
   "execution_count": 2,
   "metadata": {},
   "outputs": [],
   "source": [
    "def data_concat(df,path):\n",
    "    for p in path:\n",
    "        data = pd.read_csv(p,header=None)\n",
    "        df = pd.concat([df,data],axis=0)\n",
    "    return df"
   ]
  },
  {
   "cell_type": "code",
   "execution_count": 3,
   "metadata": {},
   "outputs": [],
   "source": [
    "# 取PSD特征\n",
    "def psd_feature(df):\n",
    "    m=df.shape[1]\n",
    "    n=100   #每100个频点作为一个子带\n",
    "    signal_feature = pd.DataFrame()\n",
    "    for i in range(m/n):\n",
    "        df_n=df.iloc[:,range(n*i,n*(i+1))]\n",
    "        df_n = 10**(df_n/10)\n",
    "        mean=df_n.mean(axis=1)\n",
    "        var = df_n.var(axis=1)\n",
    "        mean=mean.map(lambda x :math.log(x,10)*10)\n",
    "        signal_feature['psd_mean_'+str(i)] = mean\n",
    "        signal_feature['psd_var_'+str(i)] = var\n",
    "    return signal_feature"
   ]
  },
  {
   "cell_type": "code",
   "execution_count": 4,
   "metadata": {},
   "outputs": [],
   "source": [
    "# 取PSD差分特征\n",
    "def psd_cha_feature(df):\n",
    "    m=df.shape[1]\n",
    "    n=100  #每100个频点作为一个子带\n",
    "    signal_feature = pd.DataFrame()\n",
    "    for i in range(m/n):\n",
    "        df_n=df.iloc[:,range(n*i,n*(i+1))]\n",
    "        mean=df_n.mean(axis=1)    # mean 代表该频段的平均上升下降次数\n",
    "        #mean=mean.map(lambda x:0 if x>-0.5 else 1) # 二次离散化\n",
    "        signal_feature['psd_cha_'+str(i)] = mean\n",
    "    return signal_feature"
   ]
  },
  {
   "cell_type": "code",
   "execution_count": 5,
   "metadata": {},
   "outputs": [],
   "source": [
    "def convert_cha(sa):\n",
    "    if (sa>0):\n",
    "        return 1\n",
    "    else:\n",
    "        return -1"
   ]
  },
  {
   "cell_type": "code",
   "execution_count": 6,
   "metadata": {},
   "outputs": [],
   "source": [
    "# 取差值（斜率）作为特征\n",
    "def cha(df):\n",
    "    n=df.shape[1]\n",
    "    ret = pd.DataFrame()\n",
    "    for i in range(n-1):\n",
    "        d=df.iloc[:,i+1]-df.iloc[:,i]\n",
    "        ret[i]=d\n",
    "    ret[n-1]=0\n",
    "    return ret"
   ]
  },
  {
   "cell_type": "code",
   "execution_count": 7,
   "metadata": {},
   "outputs": [],
   "source": [
    "# 特征提取总函数\n",
    "def feature_extraction(path,file_name,num_0,num_1):\n",
    "    all_data = pd.DataFrame()\n",
    "    all_data = data_concat(all_data,path)\n",
    "    all_data=all_data.iloc[:,range(1200,4200)]\n",
    "    all_data_cha = cha(all_data)\n",
    "    all_data.index=range(all_data.shape[0])\n",
    "    all_data_cha.index=range(all_data_cha.shape[0])\n",
    "    all_feature = pd.DataFrame() # train_feature 为最终的训练特征\n",
    "    psd = psd_feature(all_data)\n",
    "    psd = psd.sort_index(axis=1)\n",
    "    all_data_cha_cate = all_data_cha.applymap(convert_cha) #差分特征\n",
    "    psd_cha = psd_cha_feature(all_data_cha_cate)\n",
    "    all_feature = pd.concat([psd,psd_cha],axis=1)\n",
    "    data_all=MinMaxScaler().fit_transform(all_feature) #normalization 得到numpy array\n",
    "    feature_data = pd.DataFrame(data_all)\n",
    "    feature_data.columns=all_feature.columns\n",
    "    feature_data['label']=[1]*num_1+[0]*num_0\n",
    "    feature_data.to_csv(file_name,index=False)"
   ]
  },
  {
   "cell_type": "code",
   "execution_count": 8,
   "metadata": {},
   "outputs": [],
   "source": [
    "num_0 = 500\n",
    "num_1 = 500"
   ]
  },
  {
   "cell_type": "code",
   "execution_count": 9,
   "metadata": {},
   "outputs": [],
   "source": [
    "path_all=['./matlab/data_418_test/data_UAV_f_-95-80.csv','./matlab/data_418_test/data_UAV_f_-95-90.csv',\\\n",
    "          './matlab/data_418_test/data_UAV_f_-95-100.csv','./matlab/data_418_test/data_UAV_f_-95-110.csv','./matlab/data_418_test/data_UAV_f_-95-120.csv','./matlab/data_418_test/data_noise_f_-95.csv']\n",
    "file_name = 'test_data_node1_0501.csv'\n",
    "feature_extraction(path_all,file_name,num_0,num_1)"
   ]
  },
  {
   "cell_type": "code",
   "execution_count": 10,
   "metadata": {},
   "outputs": [],
   "source": [
    "path_all=['./matlab/data_418_test/data_UAV_f_-90-90.csv','./matlab/data_418_test/data_UAV_f_-90-100.csv',\\\n",
    "         './matlab/data_418_test/data_UAV_f_-90-110.csv','./matlab/data_418_test/data_UAV_f_-90-120.csv','./matlab/data_418_test/data_UAV_f_-90-80.csv','./matlab/data_418_test/data_noise_f_-90.csv']\n",
    "file_name = 'test_data_node2_0501.csv'\n",
    "feature_extraction(path_all,file_name,num_0,num_1)"
   ]
  },
  {
   "cell_type": "code",
   "execution_count": 11,
   "metadata": {},
   "outputs": [],
   "source": [
    "path_all=['./matlab/data_418_test/data_UAV_f_-85-100.csv','./matlab/data_418_test/data_UAV_f_-85-110.csv','./matlab/data_418_test/data_UAV_f_-85-120.csv',\\\n",
    "         './matlab/data_418_test/data_UAV_f_-85-80.csv','./matlab/data_418_test/data_UAV_f_-85-90.csv','./matlab/data_418_test/data_noise_f_-85.csv']\n",
    "file_name = 'test_data_node3_0501.csv'\n",
    "feature_extraction(path_all,file_name,num_0,num_1)"
   ]
  },
  {
   "cell_type": "code",
   "execution_count": 9,
   "metadata": {},
   "outputs": [],
   "source": [
    "path_all=['./matlab/data_418_test/data_UAV_f_-80-110.csv','./matlab/data_418_test/data_UAV_f_-80-120.csv',\\\n",
    "          './matlab/data_418_test/data_UAV_f_-80-80.csv','./matlab/data_418_test/data_UAV_f_-80-90.csv','./matlab/data_418_test/data_UAV_f_-80-100.csv','./matlab/data_418_test/data_noise_f_-80.csv']\n",
    "file_name = 'test_data_node4_0501.csv'\n",
    "feature_extraction(path_all,file_name,num_0,num_1)"
   ]
  },
  {
   "cell_type": "code",
   "execution_count": 13,
   "metadata": {},
   "outputs": [],
   "source": [
    "path_all=['./matlab/data_418_test/data_UAV_f_-75-120.csv','./matlab/data_418_test/data_UAV_f_-75-80.csv','./matlab/data_418_test/data_UAV_f_-75-90.csv','./matlab/data_418_test/data_UAV_f_-75-100.csv',\\\n",
    "         './matlab/data_418_test/data_UAV_f_-75-110.csv','./matlab/data_418_test/data_noise_f_-75.csv']\n",
    "file_name = 'test_data_node5_0501.csv'\n",
    "feature_extraction(path_all,file_name,num_0,num_1)"
   ]
  }
 ],
 "metadata": {
  "kernelspec": {
   "display_name": "Python 2",
   "language": "python",
   "name": "python2"
  },
  "language_info": {
   "codemirror_mode": {
    "name": "ipython",
    "version": 2
   },
   "file_extension": ".py",
   "mimetype": "text/x-python",
   "name": "python",
   "nbconvert_exporter": "python",
   "pygments_lexer": "ipython2",
   "version": "2.7.12"
  }
 },
 "nbformat": 4,
 "nbformat_minor": 2
}
