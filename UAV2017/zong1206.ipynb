{
 "cells": [
  {
   "cell_type": "code",
   "execution_count": 1,
   "metadata": {},
   "outputs": [],
   "source": [
    "# 使用0925_1训练数据训练得到学习器（SVM），结果可识别全部已测数据  注：不同模型结果都一样！\n",
    "import pandas as pd\n",
    "import numpy as np\n",
    "import math\n",
    "from sklearn.svm import SVC\n",
    "from sklearn.linear_model import LogisticRegression\n",
    "from sklearn.model_selection import GridSearchCV"
   ]
  },
  {
   "cell_type": "code",
   "execution_count": 2,
   "metadata": {},
   "outputs": [],
   "source": [
    "from sklearn.preprocessing import MinMaxScaler\n",
    "from sklearn.feature_selection import SelectKBest\n",
    "from sklearn.feature_selection import chi2\n",
    "from scipy.stats import pearsonr\n",
    "from sklearn.feature_selection import SelectFromModel\n",
    "from sklearn.linear_model import LogisticRegression\n",
    "from sklearn.ensemble import GradientBoostingClassifier\n",
    "from sklearn.ensemble import RandomForestRegressor\n",
    "from sklearn.linear_model import RandomizedLasso\n",
    "from sklearn.feature_selection import RFE"
   ]
  },
  {
   "cell_type": "code",
   "execution_count": 87,
   "metadata": {},
   "outputs": [
    {
     "name": "stdout",
     "output_type": "stream",
     "text": [
      "(120, 90) (120,) (125, 90) (125,)\n"
     ]
    }
   ],
   "source": [
    "train_data = pd.read_csv('train_data_1205.csv',header=0) #全部数据中的训练部分\n",
    "test_data = pd.read_csv('test_data_1205_1.csv',header=0) #全部数据中的测试部分\n",
    "X_train = train_data.drop('label',axis=1)\n",
    "y_train = train_data['label']\n",
    "X_test = test_data.drop('label',axis=1)\n",
    "y_test = test_data['label']\n",
    "print X_train.shape,y_train.shape,X_test.shape,y_test.shape"
   ]
  },
  {
   "cell_type": "code",
   "execution_count": 4,
   "metadata": {},
   "outputs": [],
   "source": [
    "def feature_selection(X_train,y_train,sorted_feature,selected_feature):\n",
    "\tscore = 0\n",
    "\twhile sorted_feature:\n",
    "\t\tselected_feature.append(sorted_feature[0])\n",
    "\t\tdel sorted_feature[0]\n",
    "\t\tscore_new,clf_best = model_selection(X_train,y_train,selected_feature)\n",
    "\t\tif score_new <= score:\n",
    "\t\t\tselected_feature.pop()\n",
    "\t\telse:\n",
    "\t\t\tscore = score_new\n",
    "\t\t\tclf = clf_best\n",
    "\treturn selected_feature,score,clf"
   ]
  },
  {
   "cell_type": "code",
   "execution_count": 82,
   "metadata": {},
   "outputs": [],
   "source": [
    "def model_selection(X_train,y_train,feature):\n",
    "\tparameters={'C':[0.001,0.01,0.1,1,5,10,20]}\n",
    "\tlr = LogisticRegression()\n",
    "\tclf = GridSearchCV(lr,parameters,scoring='accuracy',cv=10)\n",
    "\tclf.fit(X_train[feature],y_train)\n",
    "\treturn clf.best_score_,clf.best_estimator_"
   ]
  },
  {
   "cell_type": "code",
   "execution_count": 8,
   "metadata": {},
   "outputs": [],
   "source": [
    "def feature_sort(X,y):\n",
    "\t# 卡方\n",
    "\ts1 = SelectKBest(chi2).fit(X,y).scores_\n",
    "\ts1[np.isnan(s1)] = 0\n",
    "\ts1=s1.reshape(-1,1)\n",
    "\ts1 = MinMaxScaler().fit_transform(s1)\n",
    "\ts1 = map(lambda x:round(x,4),s1)\n",
    "\ts1 = np.array(s1)\n",
    "\t# 皮尔森系数\n",
    "\ts2 = X.apply(lambda x:abs(pearsonr(x,y)[0])).values\n",
    "\ts2[np.isnan(s2)]=0\n",
    "\ts2=s2.reshape(-1,1)\n",
    "\ts2 = MinMaxScaler().fit_transform(s2)\n",
    "\ts2 = map(lambda x:round(x,4),s2)\n",
    "\ts2 = np.array(s2)\n",
    "\t# L2正则\n",
    "\ts3 = SelectFromModel(LogisticRegression(penalty=\"l2\", C=1)).fit(X, y)\n",
    "\tl2 = s3.estimator_\n",
    "\ts3 = abs(l2.coef_[0])\n",
    "\ts3 = s3.reshape(-1,1)\n",
    "\ts3 = MinMaxScaler().fit_transform(s3)\n",
    "\ts3 = map(lambda x:round(x,4),s3)\n",
    "\ts3 = np.array(s3)\n",
    "\t# L1正则\n",
    "\ts4 = SelectFromModel(LogisticRegression(penalty=\"l1\", C=1)).fit(X, y)\n",
    "\tl1 = s4.estimator_\n",
    "\ts4 = abs(l1.coef_[0])\n",
    "\ts4 = s4.reshape(-1,1)\n",
    "\ts4 = MinMaxScaler().fit_transform(s4)\n",
    "\ts4 = map(lambda x:round(x,4),s4)\n",
    "\ts4 = np.array(s4)\n",
    "\t# GBDT\n",
    "\ts5 =SelectFromModel(GradientBoostingClassifier()).fit(X, y)\n",
    "\tgb = s5.estimator_\n",
    "\ts5 = gb.feature_importances_\n",
    "\ts5 = s5.reshape(-1,1)\n",
    "\ts5 = MinMaxScaler().fit_transform(s5)\n",
    "\ts5 = map(lambda x:round(x,4),s5)\n",
    "\ts5 = np.array(s5)\n",
    "\t# 随机森林\n",
    "\ts6 = SelectFromModel(RandomForestRegressor()).fit(X, y)\n",
    "\trf = s6.estimator_\n",
    "\ts6 = rf.feature_importances_\n",
    "\ts6 = s6.reshape(-1,1)\n",
    "\ts6 = MinMaxScaler().fit_transform(s6)\n",
    "\ts6 = map(lambda x:round(x,4),s6)\n",
    "\ts6 = np.array(s6)\n",
    "\t# 稳定性\n",
    "\trlasso = RandomizedLasso()  # 默认通过AIC选择正则化系数alpha\n",
    "\trlasso.fit(X, y)\n",
    "\ts7 = rlasso.scores_\n",
    "\ts7 = s7.reshape(-1,1)\n",
    "\ts7 = MinMaxScaler().fit_transform(s7)\n",
    "\ts7 = map(lambda x:round(x,4),s7)\n",
    "\ts7 = np.array(s7)\n",
    "\t# REF\n",
    "\tlr = LogisticRegression(penalty='l1')\n",
    "\trfe = RFE(lr, n_features_to_select=1)\n",
    "\trfe.fit(X,y)\n",
    "\ts8 = rfe.ranking_\n",
    "\ts8 = map(lambda x:round((len(s8)+1-x)/float(len(s8)),4),s8)\n",
    "\ts8 = np.array(s8)\n",
    "\t# 总分\n",
    "\ts = s1+s2+s3+s4+s5+s6+s7+s8\n",
    "\ts_sum = pd.Series(s,index=X.columns)\n",
    "\ts_sum.sort_values(ascending=False,inplace=True)\n",
    "\treturn s_sum.index"
   ]
  },
  {
   "cell_type": "code",
   "execution_count": 83,
   "metadata": {},
   "outputs": [
    {
     "name": "stderr",
     "output_type": "stream",
     "text": [
      "/usr/local/lib/python2.7/dist-packages/sklearn/utils/deprecation.py:58: DeprecationWarning: Class RandomizedLasso is deprecated; The class RandomizedLasso is deprecated in 0.19 and will be removed in 0.21.\n",
      "  warnings.warn(msg, category=DeprecationWarning)\n"
     ]
    }
   ],
   "source": [
    "feature_index = feature_sort(X_train,y_train)\n",
    "sorted_feature = list(feature_index.values)\n",
    "sorted_feature_copy = list(sorted_feature)\n",
    "selected_feature = []\n",
    "feature,score,clf = feature_selection(X_train,y_train,sorted_feature,selected_feature)"
   ]
  },
  {
   "cell_type": "code",
   "execution_count": 73,
   "metadata": {
    "collapsed": true
   },
   "outputs": [
    {
     "data": {
      "text/plain": [
       "['psd_cha_25',\n",
       " 'psd_mean_25',\n",
       " 'psd_var_3',\n",
       " 'psd_cha_1',\n",
       " 'psd_var_1',\n",
       " 'psd_var_2',\n",
       " 'psd_mean_27',\n",
       " 'psd_cha_15',\n",
       " 'psd_cha_26',\n",
       " 'psd_var_4',\n",
       " 'psd_mean_29',\n",
       " 'psd_var_19',\n",
       " 'psd_var_25',\n",
       " 'psd_var_7',\n",
       " 'psd_mean_26',\n",
       " 'psd_var_8',\n",
       " 'psd_var_29',\n",
       " 'psd_var_17',\n",
       " 'psd_cha_14',\n",
       " 'psd_var_24',\n",
       " 'psd_mean_3',\n",
       " 'psd_var_18',\n",
       " 'psd_cha_18',\n",
       " 'psd_mean_4',\n",
       " 'psd_var_5',\n",
       " 'psd_var_9',\n",
       " 'psd_mean_5',\n",
       " 'psd_var_10',\n",
       " 'psd_var_21',\n",
       " 'psd_var_28',\n",
       " 'psd_cha_0',\n",
       " 'psd_var_22',\n",
       " 'psd_var_6',\n",
       " 'psd_var_13',\n",
       " 'psd_mean_28',\n",
       " 'psd_var_26',\n",
       " 'psd_mean_2',\n",
       " 'psd_var_16',\n",
       " 'psd_mean_6',\n",
       " 'psd_mean_7',\n",
       " 'psd_mean_8',\n",
       " 'psd_mean_9',\n",
       " 'psd_cha_3',\n",
       " 'psd_cha_6',\n",
       " 'psd_var_20',\n",
       " 'psd_var_14',\n",
       " 'psd_cha_21',\n",
       " 'psd_var_12',\n",
       " 'psd_var_0',\n",
       " 'psd_var_11',\n",
       " 'psd_var_23',\n",
       " 'psd_var_15',\n",
       " 'psd_var_27',\n",
       " 'psd_cha_16',\n",
       " 'psd_mean_22',\n",
       " 'psd_mean_21',\n",
       " 'psd_cha_2',\n",
       " 'psd_cha_20',\n",
       " 'psd_mean_20',\n",
       " 'psd_mean_24',\n",
       " 'psd_mean_1',\n",
       " 'psd_mean_19',\n",
       " 'psd_mean_23',\n",
       " 'psd_cha_24',\n",
       " 'psd_mean_12',\n",
       " 'psd_mean_18',\n",
       " 'psd_mean_14',\n",
       " 'psd_cha_17',\n",
       " 'psd_cha_12',\n",
       " 'psd_mean_15',\n",
       " 'psd_mean_16',\n",
       " 'psd_cha_8',\n",
       " 'psd_cha_7',\n",
       " 'psd_mean_17',\n",
       " 'psd_mean_11',\n",
       " 'psd_mean_13',\n",
       " 'psd_cha_5',\n",
       " 'psd_cha_4',\n",
       " 'psd_mean_0',\n",
       " 'psd_mean_10',\n",
       " 'psd_cha_13',\n",
       " 'psd_cha_11',\n",
       " 'psd_cha_29',\n",
       " 'psd_cha_9',\n",
       " 'psd_cha_10',\n",
       " 'psd_cha_23',\n",
       " 'psd_cha_22',\n",
       " 'psd_cha_28',\n",
       " 'psd_cha_19',\n",
       " 'psd_cha_27']"
      ]
     },
     "execution_count": 73,
     "metadata": {},
     "output_type": "execute_result"
    }
   ],
   "source": [
    "sorted_feature_copy"
   ]
  },
  {
   "cell_type": "code",
   "execution_count": 84,
   "metadata": {
    "scrolled": false
   },
   "outputs": [
    {
     "data": {
      "text/plain": [
       "['psd_cha_25', 'psd_mean_25', 'psd_var_3', 'psd_mean_27']"
      ]
     },
     "execution_count": 84,
     "metadata": {},
     "output_type": "execute_result"
    }
   ],
   "source": [
    "feature"
   ]
  },
  {
   "cell_type": "code",
   "execution_count": 85,
   "metadata": {},
   "outputs": [
    {
     "data": {
      "text/plain": [
       "0.98333333333333328"
      ]
     },
     "execution_count": 85,
     "metadata": {},
     "output_type": "execute_result"
    }
   ],
   "source": [
    "score"
   ]
  },
  {
   "cell_type": "code",
   "execution_count": 88,
   "metadata": {},
   "outputs": [
    {
     "data": {
      "text/plain": [
       "array([1, 1, 1, 1, 1, 1, 1, 1, 1, 1, 1, 1, 1, 1, 1, 0, 0, 1, 1, 1, 1, 1, 1,\n",
       "       1, 1, 1, 0, 1, 1, 0, 1, 1, 0, 1, 1, 1, 1, 1, 1, 1, 0, 0, 1, 0, 0, 1,\n",
       "       1, 0, 0, 0, 1, 0, 1, 0, 0, 1, 1, 1, 1, 1, 1, 1, 1, 1, 1, 1, 1, 1, 1,\n",
       "       1, 1, 0, 1, 1, 0, 0, 0, 0, 0, 0, 1, 1, 1, 1, 1, 1, 1, 1, 1, 1, 1, 1,\n",
       "       1, 1, 1, 0, 0, 0, 0, 0, 0, 0, 0, 0, 0, 1, 0, 0, 0, 0, 0, 0, 0, 0, 0,\n",
       "       0, 1, 0, 0, 0, 0, 0, 0, 0, 0])"
      ]
     },
     "execution_count": 88,
     "metadata": {},
     "output_type": "execute_result"
    }
   ],
   "source": [
    "clf.predict(X_test[feature])"
   ]
  },
  {
   "cell_type": "code",
   "execution_count": 76,
   "metadata": {},
   "outputs": [
    {
     "data": {
      "text/plain": [
       "array([1, 1, 1, 1, 1, 1, 1, 1, 1, 1, 1, 1, 1, 1, 1, 1, 1, 1, 1, 1, 1, 1, 1,\n",
       "       1, 1, 1, 1, 1, 1, 1, 1, 1, 1, 1, 1, 1, 1, 1, 1, 1, 1, 1, 1, 1, 1, 1,\n",
       "       1, 1, 1, 1, 1, 1, 1, 1, 1, 1, 1, 1, 1, 1, 1, 1, 1, 1, 1, 1, 1, 1, 1,\n",
       "       1, 1, 1, 1, 1, 1, 1, 1, 1, 1, 1, 1, 1, 1, 1, 1, 1, 1, 1, 1, 1, 1, 1,\n",
       "       1, 1, 1, 1, 1, 1, 1, 1, 1, 1, 1, 1, 1, 1, 1, 1, 1, 1, 1, 1, 1, 1, 1,\n",
       "       1, 1, 1, 1, 1, 1, 1, 1, 1, 1, 1, 1, 1, 1, 1, 1, 1, 1, 1, 1, 1, 1, 1,\n",
       "       1, 1, 1, 1, 1, 1, 1, 1, 1, 1, 1, 1, 1, 1, 1, 1, 1, 1, 1, 1, 1, 1, 1,\n",
       "       1, 1, 1, 1, 1, 1, 1, 1, 1, 1, 1, 1, 1, 1, 1, 1, 1, 1, 1, 1, 1, 1, 1,\n",
       "       1, 1, 1, 1, 1, 1, 0, 0, 0, 0, 0, 0, 0, 0, 0, 0, 0, 0, 0, 0, 0, 0, 0,\n",
       "       0, 0, 0, 0, 0, 0, 0, 0, 0, 0, 0, 0, 0, 0, 0, 0, 0, 0, 0, 0, 0, 0, 0,\n",
       "       0, 0, 0, 0, 0, 0, 0, 0, 0, 0, 0, 0, 0, 0, 0, 0, 0, 0, 0, 0])"
      ]
     },
     "execution_count": 76,
     "metadata": {},
     "output_type": "execute_result"
    }
   ],
   "source": [
    "y_test.values"
   ]
  },
  {
   "cell_type": "code",
   "execution_count": 49,
   "metadata": {
    "scrolled": true
   },
   "outputs": [
    {
     "name": "stdout",
     "output_type": "stream",
     "text": [
      "SVC(C=1, cache_size=200, class_weight=None, coef0=0.0,\n",
      "  decision_function_shape=None, degree=3, gamma='auto', kernel='linear',\n",
      "  max_iter=-1, probability=False, random_state=None, shrinking=True,\n",
      "  tol=0.001, verbose=False)\n",
      "0.927083333333\n"
     ]
    }
   ],
   "source": [
    "# SVM 模型\n",
    "from sklearn.model_selection import GridSearchCV\n",
    "parameters={'kernel':('rbf','linear','poly','sigmoid'),'C':[0.01,0.1,1,5,10]}\n",
    "svr = SVC()\n",
    "clf = GridSearchCV(svr,parameters,scoring='roc_auc',cv=10)\n",
    "clf.fit(X_train,y_train)\n",
    "print(clf.best_estimator_)\n",
    "print clf.best_score_ "
   ]
  },
  {
   "cell_type": "code",
   "execution_count": 78,
   "metadata": {},
   "outputs": [
    {
     "name": "stdout",
     "output_type": "stream",
     "text": [
      "SVC(C=0.01, cache_size=200, class_weight=None, coef0=0.0,\n",
      "  decision_function_shape=None, degree=3, gamma='auto', kernel='sigmoid',\n",
      "  max_iter=-1, probability=False, random_state=None, shrinking=True,\n",
      "  tol=0.001, verbose=False)\n",
      "0.856770833333\n"
     ]
    }
   ],
   "source": [
    "from sklearn.model_selection import GridSearchCV\n",
    "parameters={'kernel':('rbf','linear','poly','sigmoid'),'C':[0.0000001,0.001,0.01,0.1,1,5,10,20]}\n",
    "svr = SVC()\n",
    "clf = GridSearchCV(svr,parameters,scoring='roc_auc',cv=10)\n",
    "clf.fit(X_train_s,y_train)\n",
    "print(clf.best_estimator_)\n",
    "print clf.best_score_ "
   ]
  },
  {
   "cell_type": "code",
   "execution_count": 18,
   "metadata": {},
   "outputs": [
    {
     "name": "stdout",
     "output_type": "stream",
     "text": [
      "LogisticRegression(C=0.001, class_weight=None, dual=False, fit_intercept=True,\n",
      "          intercept_scaling=1, max_iter=100, multi_class='ovr', n_jobs=1,\n",
      "          penalty='l2', random_state=None, solver='liblinear', tol=0.0001,\n",
      "          verbose=0, warm_start=False)\n",
      "1.0\n"
     ]
    }
   ],
   "source": [
    "# LR  模型\n",
    "from sklearn.linear_model import LogisticRegression\n",
    "from sklearn.model_selection import GridSearchCV\n",
    "parameters={'C':[0.001,0.01,0.1,1,5,10,20]}\n",
    "lr = LogisticRegression()\n",
    "clf = GridSearchCV(lr,parameters,scoring='roc_auc',cv=10)\n",
    "clf.fit(X_train,y_train)\n",
    "print(clf.best_estimator_)\n",
    "print clf.best_score_ "
   ]
  },
  {
   "cell_type": "code",
   "execution_count": null,
   "metadata": {
    "collapsed": true
   },
   "outputs": [],
   "source": []
  },
  {
   "cell_type": "code",
   "execution_count": 30,
   "metadata": {
    "scrolled": true
   },
   "outputs": [
    {
     "name": "stdout",
     "output_type": "stream",
     "text": [
      "LogisticRegression(C=10, class_weight=None, dual=False, fit_intercept=True,\n",
      "          intercept_scaling=1, max_iter=100, multi_class='ovr', n_jobs=1,\n",
      "          penalty='l2', random_state=None, solver='liblinear', tol=0.0001,\n",
      "          verbose=0, warm_start=False)\n",
      "0.95\n"
     ]
    }
   ],
   "source": [
    "# LR  模型\n",
    "from sklearn.linear_model import LogisticRegression\n",
    "from sklearn.model_selection import GridSearchCV\n",
    "parameters={'C':[0.0000001,0.001,0.01,0.1,0.5,1,5,10,20]}\n",
    "lr = LogisticRegression()\n",
    "clf = GridSearchCV(lr,parameters,scoring='accuracy',cv=10)\n",
    "clf.fit(X_train_s,y_train)\n",
    "print(clf.best_estimator_)\n",
    "print clf.best_score_"
   ]
  },
  {
   "cell_type": "code",
   "execution_count": 31,
   "metadata": {},
   "outputs": [],
   "source": [
    "clf_train = clf.best_estimator_\n",
    "#clf_train.score(X_test_s,y_test)"
   ]
  },
  {
   "cell_type": "code",
   "execution_count": null,
   "metadata": {
    "collapsed": true
   },
   "outputs": [],
   "source": []
  },
  {
   "cell_type": "code",
   "execution_count": 32,
   "metadata": {},
   "outputs": [
    {
     "data": {
      "text/plain": [
       "array([1, 1, 1, 1, 1, 1, 1, 1, 1, 1, 1, 1, 1, 1, 1, 0, 0, 1, 1, 1, 1, 1, 1,\n",
       "       1, 1, 1, 0, 1, 1, 0, 1, 1, 0, 1, 1, 1, 1, 1, 1, 1, 0, 1, 1, 1, 1, 1,\n",
       "       1, 0, 0, 0, 1, 1, 1, 1, 1, 1, 1, 1, 1, 1, 1, 1, 1, 1, 1, 1, 1, 1, 1,\n",
       "       1, 1, 0, 1, 1, 0, 1, 0, 1, 1, 0, 1, 1, 1, 1, 1, 1, 1, 1, 1, 1, 1, 1,\n",
       "       1, 1, 1, 0, 0, 0, 0, 0, 0, 0, 0, 0, 0, 1, 0, 0, 0, 0, 0, 0, 0, 0, 0,\n",
       "       0, 1, 0, 0, 0, 0, 0, 0, 0, 0])"
      ]
     },
     "execution_count": 32,
     "metadata": {},
     "output_type": "execute_result"
    }
   ],
   "source": [
    "clf_train.predict(X_test_s)"
   ]
  },
  {
   "cell_type": "code",
   "execution_count": 9,
   "metadata": {
    "scrolled": true
   },
   "outputs": [
    {
     "data": {
      "text/plain": [
       "array([1, 1, 1, 1, 1, 1, 1, 1, 1, 1, 1, 1, 1, 1, 1, 1, 1, 1, 1, 1, 1, 1, 1,\n",
       "       1, 1, 1, 1, 1, 1, 1, 1, 1, 1, 1, 1, 1, 1, 1, 1, 1, 1, 1, 1, 1, 1, 1,\n",
       "       1, 1, 1, 1, 1, 1, 1, 1, 1, 1, 1, 1, 1, 1, 1, 1, 1, 1, 1, 1, 1, 1, 1,\n",
       "       1, 1, 1, 1, 1, 1, 1, 1, 1, 1, 1, 1, 1, 1, 1, 1, 1, 1, 1, 1, 1, 1, 1,\n",
       "       1, 1, 1, 0, 0, 0, 0, 0, 0, 0, 0, 0, 0, 0, 0, 0, 0, 0, 0, 0, 0, 0, 0,\n",
       "       0, 0, 0, 0, 0, 0, 0, 0, 0, 0])"
      ]
     },
     "execution_count": 9,
     "metadata": {},
     "output_type": "execute_result"
    }
   ],
   "source": [
    "y_test.values"
   ]
  },
  {
   "cell_type": "code",
   "execution_count": 132,
   "metadata": {
    "scrolled": false
   },
   "outputs": [
    {
     "name": "stdout",
     "output_type": "stream",
     "text": [
      "[1 0 0 1 1]\n"
     ]
    }
   ],
   "source": [
    "#predict\n",
    "#path_predict = './0908/NO/GL/2455/NO_SA_2455_20_5000_00'\n",
    "#path_predict = './0908/TC/GL/140/2425/TC_SA_2425_140_20_5000_00'\n",
    "#path_predict = './0711/N/SA/SA2405/SA00'\n",
    "path_predict = './0711/Y/gong/SA/SA2415-80/SA00'\n",
    "n = 400\n",
    "x_predict = get_real_data(path_predict)\n",
    "#x_predict_samp = x_predict[range(0,5000,5)]\n",
    "#x = x_predict.values\n",
    "y_predict = clf.predict(x_predict)\n",
    "print y_predict"
   ]
  },
  {
   "cell_type": "code",
   "execution_count": 39,
   "metadata": {},
   "outputs": [
    {
     "data": {
      "text/plain": [
       "array([ 1.,  1.,  1., ..., -1., -1., -1.])"
      ]
     },
     "execution_count": 39,
     "metadata": {},
     "output_type": "execute_result"
    }
   ],
   "source": [
    "x_predict"
   ]
  },
  {
   "cell_type": "code",
   "execution_count": 48,
   "metadata": {},
   "outputs": [
    {
     "data": {
      "text/plain": [
       "3000"
      ]
     },
     "execution_count": 48,
     "metadata": {},
     "output_type": "execute_result"
    }
   ],
   "source": [
    "len(x_predict)"
   ]
  },
  {
   "cell_type": "code",
   "execution_count": 19,
   "metadata": {},
   "outputs": [
    {
     "data": {
      "text/plain": [
       "10001"
      ]
     },
     "execution_count": 19,
     "metadata": {},
     "output_type": "execute_result"
    }
   ],
   "source": [
    "len(x_predict)"
   ]
  },
  {
   "cell_type": "code",
   "execution_count": 57,
   "metadata": {},
   "outputs": [
    {
     "name": "stdout",
     "output_type": "stream",
     "text": [
      "(10001,)\n"
     ]
    }
   ],
   "source": [
    "path_predict = './0908/NO/GL/2475/NO_SA_2475_20_5000_00'\n",
    "#path_predict = './0908/TC/GL/110/2475/TC_SA_2475_110_20_5000_00'\n",
    "#path_predict = './0711/N/SA/SA2415/SA00'\n",
    "#path_predict = './0711/Y/gong/SA/SA2475-80/SA00'\n",
    "n = 400\n",
    "x_predict = get_real_data(path_predict,n)\n",
    "print x_predict.shape"
   ]
  },
  {
   "cell_type": "code",
   "execution_count": 41,
   "metadata": {},
   "outputs": [],
   "source": [
    "a = x_predict.values"
   ]
  },
  {
   "cell_type": "code",
   "execution_count": 43,
   "metadata": {},
   "outputs": [
    {
     "data": {
      "text/plain": [
       "(1000,)"
      ]
     },
     "execution_count": 43,
     "metadata": {},
     "output_type": "execute_result"
    }
   ],
   "source": [
    "a[index_sel].shape"
   ]
  }
 ],
 "metadata": {
  "kernelspec": {
   "display_name": "Python 2",
   "language": "python",
   "name": "python2"
  },
  "language_info": {
   "codemirror_mode": {
    "name": "ipython",
    "version": 2
   },
   "file_extension": ".py",
   "mimetype": "text/x-python",
   "name": "python",
   "nbconvert_exporter": "python",
   "pygments_lexer": "ipython2",
   "version": "2.7.12"
  }
 },
 "nbformat": 4,
 "nbformat_minor": 1
}
